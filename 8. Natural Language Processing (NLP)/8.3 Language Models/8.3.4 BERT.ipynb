{
 "cells": [
  {
   "cell_type": "markdown",
   "metadata": {
    "id": "OjLUUFozZNwv"
   },
   "source": [
    "# 8.3.4 BERT\n",
    "\n",
    "## Explanation of **BERT (Bidirectional Encoder Representations from Transformers)**\n",
    "\n",
    "**BERT (Bidirectional Encoder Representations from Transformers)** is a groundbreaking model introduced by Google in 2018. It is built upon the Transformer architecture and is designed to better understand the context of words in a sentence. Unlike traditional models that read text sequentially (left-to-right or right-to-left), BERT reads the entire sequence of words at once, capturing context from both directions simultaneously. This bidirectional approach allows BERT to grasp the meaning of a word based on its surrounding words more effectively.\n",
    "\n",
    "Key features of BERT include:\n",
    "- **Bidirectional Context**: BERT considers both the left and right context of a word, which enhances its understanding of the text.\n",
    "- **Pre-training and Fine-tuning**: BERT is pre-trained on a large corpus of text using two tasks: Masked Language Model (MLM) and Next Sentence Prediction (NSP). It is then fine-tuned on specific tasks with additional task-specific layers.\n",
    "\n",
    "## Applications and Benefits of BERT\n",
    "\n",
    "### Applications\n",
    "1. **Text Classification**: BERT is used for sentiment analysis, spam detection, and topic categorization.\n",
    "2. **Named Entity Recognition (NER)**: It identifies and classifies entities like names, dates, and locations in text.\n",
    "3. **Question Answering**: BERT excels in understanding and answering questions based on a given context.\n",
    "4. **Text Summarization**: It can generate concise summaries of longer texts.\n",
    "5. **Translation**: BERT improves machine translation by understanding the context better.\n",
    "\n",
    "### Benefits\n",
    "- **Enhanced Contextual Understanding**: BERT's bidirectional approach allows it to better capture the meaning of words in context, leading to improved performance on various NLP tasks.\n",
    "- **Pre-trained Models**: BERT provides pre-trained models that can be fine-tuned for specific tasks, reducing the need for extensive training data and computational resources.\n",
    "- **Versatility**: BERT can be adapted to a wide range of NLP tasks, making it a flexible tool for different applications.\n"
   ]
  },
  {
   "cell_type": "markdown",
   "metadata": {},
   "source": [
    "___\n",
    "___\n",
    "### Readings:\n",
    "- [What is BERT? How it is trained ? A High Level Overview](https://medium.com/@Suraj_Yadav/what-is-bert-how-it-is-trained-a-high-level-overview-1207a910aaed)\n",
    "- [BERT — Bidirectional Encoder Representations from Transformer](https://gayathri-siva.medium.com/bert-bidirectional-encoder-representations-from-transformer-8c84bd4c9021)\n",
    "- [Large Language Models: BERT](https://towardsdatascience.com/bert-3d1bf880386a)\n",
    "- [BERT Explained: A Complete Guide with Theory and Tutorial](https://medium.com/@samia.khalid/bert-explained-a-complete-guide-with-theory-and-tutorial-3ac9ebc8fa7c)\n",
    "- [Understanding BERT](https://pub.towardsai.net/understanding-bert-b69ce7ad03c1)\n",
    "___\n",
    "___"
   ]
  },
  {
   "cell_type": "code",
   "execution_count": null,
   "metadata": {
    "id": "bl-007BtZ2mZ"
   },
   "outputs": [],
   "source": [
    "!pip install datasets"
   ]
  },
  {
   "cell_type": "code",
   "execution_count": 1,
   "metadata": {
    "id": "BBEioH4paDqa"
   },
   "outputs": [],
   "source": [
    "# Import necessary libraries\n",
    "from datasets import load_dataset\n",
    "from transformers import DistilBertForSequenceClassification, DistilBertTokenizerFast\n",
    "from transformers import Trainer, TrainingArguments\n",
    "from sklearn.metrics import accuracy_score, precision_recall_fscore_support\n",
    "\n",
    "import warnings\n",
    "warnings.filterwarnings(\"ignore\", category=FutureWarning)"
   ]
  },
  {
   "cell_type": "code",
   "execution_count": 2,
   "metadata": {
    "id": "9XtxBwwCapDF"
   },
   "outputs": [],
   "source": [
    "# Load the dataset\n",
    "dataset = load_dataset('imdb')\n",
    "\n",
    "# Initialize the tokenizer\n",
    "tokenizer = DistilBertTokenizerFast.from_pretrained('distilbert-base-uncased')\n"
   ]
  },
  {
   "cell_type": "code",
   "execution_count": 3,
   "metadata": {
    "colab": {
     "base_uri": "https://localhost:8080/",
     "height": 49,
     "referenced_widgets": [
      "8a8e9c5005f74921b4ff598a03f8ecfa",
      "f8a802b24c06437b869bbdf811d9c660",
      "0108709998f14aec9763c8dcd894eb2f",
      "96677cb329634507b6e5c83ef0711623",
      "bdc83fa2918b412281b84adf5818a563",
      "f7628ec288014df4a967fe3314153312",
      "7cd6113d71f043f78d8d14bfad29550c",
      "302c30058825464289055ad85df71455",
      "6b8a58aabfaf4030932fe54ef63f406a",
      "0123b2e035b648a59ded86aca0e6f5b4",
      "47f74e97017f40eabd4aa26f286a7fa1"
     ]
    },
    "id": "TX8yT8vVar3p",
    "outputId": "8b3c4c22-c45e-4280-a889-12a4db417d82"
   },
   "outputs": [
    {
     "data": {
      "application/vnd.jupyter.widget-view+json": {
       "model_id": "8a8e9c5005f74921b4ff598a03f8ecfa",
       "version_major": 2,
       "version_minor": 0
      },
      "text/plain": [
       "Map:   0%|          | 0/50000 [00:00<?, ? examples/s]"
      ]
     },
     "metadata": {},
     "output_type": "display_data"
    }
   ],
   "source": [
    "\n",
    "# Tokenize the dataset\n",
    "def preprocess_function(examples):\n",
    "    return tokenizer(examples['text'], truncation=True, padding=True, max_length=512)\n",
    "\n",
    "encoded_dataset = dataset.map(preprocess_function, batched=True)\n",
    "\n"
   ]
  },
  {
   "cell_type": "code",
   "execution_count": null,
   "metadata": {
    "id": "ZwqlkF4pauTm"
   },
   "outputs": [],
   "source": [
    "# Split the dataset into train and test sets\n",
    "train_dataset = encoded_dataset['train'].shuffle(seed=42).select(range(10000))  # Using a smaller subset for faster training\n",
    "test_dataset = encoded_dataset['test'].shuffle(seed=42).select(range(2000))  # Using a smaller subset for faster evaluation\n",
    "\n",
    "# Initialize the model\n",
    "model = DistilBertForSequenceClassification.from_pretrained('distilbert-base-uncased', num_labels=2)\n"
   ]
  },
  {
   "cell_type": "code",
   "execution_count": 5,
   "metadata": {
    "id": "g-N7NLxPa3d8"
   },
   "outputs": [],
   "source": [
    "\n",
    "# Define the metrics\n",
    "def compute_metrics(p):\n",
    "    preds = p.predictions.argmax(-1)\n",
    "    precision, recall, f1, _ = precision_recall_fscore_support(p.label_ids, preds, average='binary')\n",
    "    acc = accuracy_score(p.label_ids, preds)\n",
    "    return {'accuracy': acc, 'precision': precision, 'recall': recall, 'f1': f1}\n",
    "\n",
    "# Define training arguments\n",
    "training_args = TrainingArguments(\n",
    "    output_dir='./results',          # Output directory\n",
    "    num_train_epochs=2,              # Number of training epochs\n",
    "    per_device_train_batch_size=16,  # Batch size for training\n",
    "    per_device_eval_batch_size=16,   # Batch size for evaluation\n",
    "    warmup_steps=500,                # Number of warmup steps for learning rate scheduler\n",
    "    weight_decay=0.01,               # Strength of weight decay\n",
    "    logging_dir='./logs',            # Directory for storing logs\n",
    "    logging_steps=10,\n",
    "    evaluation_strategy=\"epoch\",     # Evaluate every epoch\n",
    "    save_strategy=\"epoch\",           # Save model every epoch\n",
    "    load_best_model_at_end=True,     # Load the best model at the end of training\n",
    ")\n",
    "\n",
    "# Initialize the Trainer\n",
    "trainer = Trainer(\n",
    "    model=model,                         # The instantiated 🤗 Transformers model to be trained\n",
    "    args=training_args,                  # Training arguments, defined above\n",
    "    train_dataset=train_dataset,         # Training dataset\n",
    "    eval_dataset=test_dataset,           # Evaluation dataset\n",
    "    compute_metrics=compute_metrics,     # Function to compute metrics for evaluation\n",
    ")\n"
   ]
  },
  {
   "cell_type": "code",
   "execution_count": 6,
   "metadata": {
    "colab": {
     "base_uri": "https://localhost:8080/",
     "height": 195
    },
    "id": "fsDwt7NIa6aO",
    "outputId": "1c354f60-5e91-467a-d2c1-2e73b4bb90d5"
   },
   "outputs": [
    {
     "data": {
      "text/html": [
       "\n",
       "    <div>\n",
       "      \n",
       "      <progress value='1250' max='1250' style='width:300px; height:20px; vertical-align: middle;'></progress>\n",
       "      [1250/1250 17:24, Epoch 2/2]\n",
       "    </div>\n",
       "    <table border=\"1\" class=\"dataframe\">\n",
       "  <thead>\n",
       " <tr style=\"text-align: left;\">\n",
       "      <th>Epoch</th>\n",
       "      <th>Training Loss</th>\n",
       "      <th>Validation Loss</th>\n",
       "      <th>Accuracy</th>\n",
       "      <th>Precision</th>\n",
       "      <th>Recall</th>\n",
       "      <th>F1</th>\n",
       "    </tr>\n",
       "  </thead>\n",
       "  <tbody>\n",
       "    <tr>\n",
       "      <td>1</td>\n",
       "      <td>0.233300</td>\n",
       "      <td>0.270237</td>\n",
       "      <td>0.908500</td>\n",
       "      <td>0.896987</td>\n",
       "      <td>0.923000</td>\n",
       "      <td>0.909808</td>\n",
       "    </tr>\n",
       "    <tr>\n",
       "      <td>2</td>\n",
       "      <td>0.126300</td>\n",
       "      <td>0.261713</td>\n",
       "      <td>0.916500</td>\n",
       "      <td>0.921132</td>\n",
       "      <td>0.911000</td>\n",
       "      <td>0.916038</td>\n",
       "    </tr>\n",
       "  </tbody>\n",
       "</table><p>"
      ],
      "text/plain": [
       "<IPython.core.display.HTML object>"
      ]
     },
     "metadata": {},
     "output_type": "display_data"
    },
    {
     "data": {
      "text/html": [
       "\n",
       "    <div>\n",
       "      \n",
       "      <progress value='125' max='125' style='width:300px; height:20px; vertical-align: middle;'></progress>\n",
       "      [125/125 00:34]\n",
       "    </div>\n",
       "    "
      ],
      "text/plain": [
       "<IPython.core.display.HTML object>"
      ]
     },
     "metadata": {},
     "output_type": "display_data"
    },
    {
     "name": "stdout",
     "output_type": "stream",
     "text": [
      "Evaluation Results: {'eval_loss': 0.26171255111694336, 'eval_accuracy': 0.9165, 'eval_precision': 0.9211324570273003, 'eval_recall': 0.911, 'eval_f1': 0.9160382101558573, 'eval_runtime': 34.959, 'eval_samples_per_second': 57.21, 'eval_steps_per_second': 3.576, 'epoch': 2.0}\n"
     ]
    }
   ],
   "source": [
    "# Train the model\n",
    "trainer.train()\n",
    "\n",
    "# Evaluate the model\n",
    "results = trainer.evaluate()\n",
    "\n",
    "# Print the evaluation results\n",
    "print(f\"Evaluation Results: {results}\")"
   ]
  },
  {
   "cell_type": "code",
   "execution_count": 7,
   "metadata": {
    "colab": {
     "base_uri": "https://localhost:8080/"
    },
    "id": "36Deo71FgU7r",
    "outputId": "14b78656-8bb6-4d3b-8eb1-c4e3fce2e1c7"
   },
   "outputs": [
    {
     "name": "stdout",
     "output_type": "stream",
     "text": [
      "Sentence: This movie was fantastic!\n",
      "Prediction: Positive\n",
      "\n",
      "Sentence: I didn't like the film at all.\n",
      "Prediction: Negative\n",
      "\n"
     ]
    }
   ],
   "source": [
    "import torch\n",
    "# Prepare new data\n",
    "sentences = [\"This movie was fantastic!\", \"I didn't like the film at all.\"]\n",
    "encodings = tokenizer(sentences, truncation=True, padding=True, max_length=512, return_tensors='pt')\n",
    "\n",
    "# Move encodings to GPU if available\n",
    "device = torch.device(\"cuda\" if torch.cuda.is_available() else \"cpu\")\n",
    "encodings = {key: val.to(device) for key, val in encodings.items()}\n",
    "\n",
    "# Get predictions\n",
    "outputs = model(**encodings)\n",
    "predictions = outputs.logits.argmax(dim=-1)\n",
    "\n",
    "for sentence, prediction in zip(sentences, predictions):\n",
    "    print(f\"Sentence: {sentence}\\nPrediction: {'Positive' if prediction.item() == 1 else 'Negative'}\\n\")"
   ]
  },
  {
   "cell_type": "code",
   "execution_count": 8,
   "metadata": {
    "colab": {
     "base_uri": "https://localhost:8080/",
     "height": 243
    },
    "id": "Mr6XYw5egjmR",
    "outputId": "37533df8-197a-4454-8a46-c2e8739a04c2"
   },
   "outputs": [
    {
     "data": {
      "text/html": [],
      "text/plain": [
       "<IPython.core.display.HTML object>"
      ]
     },
     "metadata": {},
     "output_type": "display_data"
    },
    {
     "name": "stdout",
     "output_type": "stream",
     "text": [
      "Confusion Matrix:\n",
      "[[922  78]\n",
      " [ 89 911]]\n",
      "Classification Report:\n",
      "              precision    recall  f1-score   support\n",
      "\n",
      "    Negative       0.91      0.92      0.92      1000\n",
      "    Positive       0.92      0.91      0.92      1000\n",
      "\n",
      "    accuracy                           0.92      2000\n",
      "   macro avg       0.92      0.92      0.92      2000\n",
      "weighted avg       0.92      0.92      0.92      2000\n",
      "\n"
     ]
    }
   ],
   "source": [
    "from sklearn.metrics import confusion_matrix, classification_report\n",
    "\n",
    "# Predict on the test set\n",
    "predictions = trainer.predict(test_dataset)\n",
    "preds = predictions.predictions.argmax(-1)\n",
    "\n",
    "# Confusion Matrix\n",
    "cm = confusion_matrix(test_dataset['label'], preds)\n",
    "print(f\"Confusion Matrix:\\n{cm}\")\n",
    "\n",
    "# Classification Report\n",
    "report = classification_report(test_dataset['label'], preds, target_names=['Negative', 'Positive'])\n",
    "print(f\"Classification Report:\\n{report}\")\n"
   ]
  },
  {
   "cell_type": "markdown",
   "metadata": {
    "id": "V9jw2l-zoroX"
   },
   "source": [
    "## Conclusion\r\n",
    "\r\n",
    "BERT (Bidirectional Encoder Representations from Transformers) has significantly advanced the field of Natural Language Processing (NLP) by introducing a model that understands context bidirectionally. This innovation enhances the model's ability to capture nuanced meanings in text, which has led to substantial improvements in various NLP tasks such as text classification, named entity recognition, question answering, text summarization, and machine translation.\r\n",
    "\r\n",
    "The model's pre-training on a large corpus followed by fine-tuning on specific tasks allows it to achieve high performance with minimal task-specific data. BERT's versatility and robust contextual understanding make it a powerful tool for both research and practical applications in NLP.\r\n",
    "\r\n",
    "Implementing BERT involves using the `transformers` library to load pre-trained models and tokenizers, preparing and tokenizing data, setting up training arguments, and employing the Trainer for model training and evaluation. By following these steps, you can harness BERT's capabilities to tackle a wide range of NLP challenges effectively and efficiently.\r\n",
    "\r\n",
    "Overall, BERT's contributions to NLP highlight the importance of context-aware models in achieving state-of-the-art results and set a benchmark for future advancements in the field.\r\n"
   ]
  }
 ],
 "metadata": {
  "accelerator": "GPU",
  "colab": {
   "gpuType": "T4",
   "provenance": []
  },
  "kernelspec": {
   "display_name": "Python 3 (ipykernel)",
   "language": "python",
   "name": "python3"
  },
  "language_info": {
   "codemirror_mode": {
    "name": "ipython",
    "version": 3
   },
   "file_extension": ".py",
   "mimetype": "text/x-python",
   "name": "python",
   "nbconvert_exporter": "python",
   "pygments_lexer": "ipython3",
   "version": "3.12.0"
  },
  "widgets": {
   "application/vnd.jupyter.widget-state+json": {
    "0108709998f14aec9763c8dcd894eb2f": {
     "model_module": "@jupyter-widgets/controls",
     "model_module_version": "1.5.0",
     "model_name": "FloatProgressModel",
     "state": {
      "_dom_classes": [],
      "_model_module": "@jupyter-widgets/controls",
      "_model_module_version": "1.5.0",
      "_model_name": "FloatProgressModel",
      "_view_count": null,
      "_view_module": "@jupyter-widgets/controls",
      "_view_module_version": "1.5.0",
      "_view_name": "ProgressView",
      "bar_style": "success",
      "description": "",
      "description_tooltip": null,
      "layout": "IPY_MODEL_302c30058825464289055ad85df71455",
      "max": 50000,
      "min": 0,
      "orientation": "horizontal",
      "style": "IPY_MODEL_6b8a58aabfaf4030932fe54ef63f406a",
      "value": 50000
     }
    },
    "0123b2e035b648a59ded86aca0e6f5b4": {
     "model_module": "@jupyter-widgets/base",
     "model_module_version": "1.2.0",
     "model_name": "LayoutModel",
     "state": {
      "_model_module": "@jupyter-widgets/base",
      "_model_module_version": "1.2.0",
      "_model_name": "LayoutModel",
      "_view_count": null,
      "_view_module": "@jupyter-widgets/base",
      "_view_module_version": "1.2.0",
      "_view_name": "LayoutView",
      "align_content": null,
      "align_items": null,
      "align_self": null,
      "border": null,
      "bottom": null,
      "display": null,
      "flex": null,
      "flex_flow": null,
      "grid_area": null,
      "grid_auto_columns": null,
      "grid_auto_flow": null,
      "grid_auto_rows": null,
      "grid_column": null,
      "grid_gap": null,
      "grid_row": null,
      "grid_template_areas": null,
      "grid_template_columns": null,
      "grid_template_rows": null,
      "height": null,
      "justify_content": null,
      "justify_items": null,
      "left": null,
      "margin": null,
      "max_height": null,
      "max_width": null,
      "min_height": null,
      "min_width": null,
      "object_fit": null,
      "object_position": null,
      "order": null,
      "overflow": null,
      "overflow_x": null,
      "overflow_y": null,
      "padding": null,
      "right": null,
      "top": null,
      "visibility": null,
      "width": null
     }
    },
    "302c30058825464289055ad85df71455": {
     "model_module": "@jupyter-widgets/base",
     "model_module_version": "1.2.0",
     "model_name": "LayoutModel",
     "state": {
      "_model_module": "@jupyter-widgets/base",
      "_model_module_version": "1.2.0",
      "_model_name": "LayoutModel",
      "_view_count": null,
      "_view_module": "@jupyter-widgets/base",
      "_view_module_version": "1.2.0",
      "_view_name": "LayoutView",
      "align_content": null,
      "align_items": null,
      "align_self": null,
      "border": null,
      "bottom": null,
      "display": null,
      "flex": null,
      "flex_flow": null,
      "grid_area": null,
      "grid_auto_columns": null,
      "grid_auto_flow": null,
      "grid_auto_rows": null,
      "grid_column": null,
      "grid_gap": null,
      "grid_row": null,
      "grid_template_areas": null,
      "grid_template_columns": null,
      "grid_template_rows": null,
      "height": null,
      "justify_content": null,
      "justify_items": null,
      "left": null,
      "margin": null,
      "max_height": null,
      "max_width": null,
      "min_height": null,
      "min_width": null,
      "object_fit": null,
      "object_position": null,
      "order": null,
      "overflow": null,
      "overflow_x": null,
      "overflow_y": null,
      "padding": null,
      "right": null,
      "top": null,
      "visibility": null,
      "width": null
     }
    },
    "47f74e97017f40eabd4aa26f286a7fa1": {
     "model_module": "@jupyter-widgets/controls",
     "model_module_version": "1.5.0",
     "model_name": "DescriptionStyleModel",
     "state": {
      "_model_module": "@jupyter-widgets/controls",
      "_model_module_version": "1.5.0",
      "_model_name": "DescriptionStyleModel",
      "_view_count": null,
      "_view_module": "@jupyter-widgets/base",
      "_view_module_version": "1.2.0",
      "_view_name": "StyleView",
      "description_width": ""
     }
    },
    "6b8a58aabfaf4030932fe54ef63f406a": {
     "model_module": "@jupyter-widgets/controls",
     "model_module_version": "1.5.0",
     "model_name": "ProgressStyleModel",
     "state": {
      "_model_module": "@jupyter-widgets/controls",
      "_model_module_version": "1.5.0",
      "_model_name": "ProgressStyleModel",
      "_view_count": null,
      "_view_module": "@jupyter-widgets/base",
      "_view_module_version": "1.2.0",
      "_view_name": "StyleView",
      "bar_color": null,
      "description_width": ""
     }
    },
    "7cd6113d71f043f78d8d14bfad29550c": {
     "model_module": "@jupyter-widgets/controls",
     "model_module_version": "1.5.0",
     "model_name": "DescriptionStyleModel",
     "state": {
      "_model_module": "@jupyter-widgets/controls",
      "_model_module_version": "1.5.0",
      "_model_name": "DescriptionStyleModel",
      "_view_count": null,
      "_view_module": "@jupyter-widgets/base",
      "_view_module_version": "1.2.0",
      "_view_name": "StyleView",
      "description_width": ""
     }
    },
    "8a8e9c5005f74921b4ff598a03f8ecfa": {
     "model_module": "@jupyter-widgets/controls",
     "model_module_version": "1.5.0",
     "model_name": "HBoxModel",
     "state": {
      "_dom_classes": [],
      "_model_module": "@jupyter-widgets/controls",
      "_model_module_version": "1.5.0",
      "_model_name": "HBoxModel",
      "_view_count": null,
      "_view_module": "@jupyter-widgets/controls",
      "_view_module_version": "1.5.0",
      "_view_name": "HBoxView",
      "box_style": "",
      "children": [
       "IPY_MODEL_f8a802b24c06437b869bbdf811d9c660",
       "IPY_MODEL_0108709998f14aec9763c8dcd894eb2f",
       "IPY_MODEL_96677cb329634507b6e5c83ef0711623"
      ],
      "layout": "IPY_MODEL_bdc83fa2918b412281b84adf5818a563"
     }
    },
    "96677cb329634507b6e5c83ef0711623": {
     "model_module": "@jupyter-widgets/controls",
     "model_module_version": "1.5.0",
     "model_name": "HTMLModel",
     "state": {
      "_dom_classes": [],
      "_model_module": "@jupyter-widgets/controls",
      "_model_module_version": "1.5.0",
      "_model_name": "HTMLModel",
      "_view_count": null,
      "_view_module": "@jupyter-widgets/controls",
      "_view_module_version": "1.5.0",
      "_view_name": "HTMLView",
      "description": "",
      "description_tooltip": null,
      "layout": "IPY_MODEL_0123b2e035b648a59ded86aca0e6f5b4",
      "placeholder": "​",
      "style": "IPY_MODEL_47f74e97017f40eabd4aa26f286a7fa1",
      "value": " 50000/50000 [00:58&lt;00:00, 918.64 examples/s]"
     }
    },
    "bdc83fa2918b412281b84adf5818a563": {
     "model_module": "@jupyter-widgets/base",
     "model_module_version": "1.2.0",
     "model_name": "LayoutModel",
     "state": {
      "_model_module": "@jupyter-widgets/base",
      "_model_module_version": "1.2.0",
      "_model_name": "LayoutModel",
      "_view_count": null,
      "_view_module": "@jupyter-widgets/base",
      "_view_module_version": "1.2.0",
      "_view_name": "LayoutView",
      "align_content": null,
      "align_items": null,
      "align_self": null,
      "border": null,
      "bottom": null,
      "display": null,
      "flex": null,
      "flex_flow": null,
      "grid_area": null,
      "grid_auto_columns": null,
      "grid_auto_flow": null,
      "grid_auto_rows": null,
      "grid_column": null,
      "grid_gap": null,
      "grid_row": null,
      "grid_template_areas": null,
      "grid_template_columns": null,
      "grid_template_rows": null,
      "height": null,
      "justify_content": null,
      "justify_items": null,
      "left": null,
      "margin": null,
      "max_height": null,
      "max_width": null,
      "min_height": null,
      "min_width": null,
      "object_fit": null,
      "object_position": null,
      "order": null,
      "overflow": null,
      "overflow_x": null,
      "overflow_y": null,
      "padding": null,
      "right": null,
      "top": null,
      "visibility": null,
      "width": null
     }
    },
    "f7628ec288014df4a967fe3314153312": {
     "model_module": "@jupyter-widgets/base",
     "model_module_version": "1.2.0",
     "model_name": "LayoutModel",
     "state": {
      "_model_module": "@jupyter-widgets/base",
      "_model_module_version": "1.2.0",
      "_model_name": "LayoutModel",
      "_view_count": null,
      "_view_module": "@jupyter-widgets/base",
      "_view_module_version": "1.2.0",
      "_view_name": "LayoutView",
      "align_content": null,
      "align_items": null,
      "align_self": null,
      "border": null,
      "bottom": null,
      "display": null,
      "flex": null,
      "flex_flow": null,
      "grid_area": null,
      "grid_auto_columns": null,
      "grid_auto_flow": null,
      "grid_auto_rows": null,
      "grid_column": null,
      "grid_gap": null,
      "grid_row": null,
      "grid_template_areas": null,
      "grid_template_columns": null,
      "grid_template_rows": null,
      "height": null,
      "justify_content": null,
      "justify_items": null,
      "left": null,
      "margin": null,
      "max_height": null,
      "max_width": null,
      "min_height": null,
      "min_width": null,
      "object_fit": null,
      "object_position": null,
      "order": null,
      "overflow": null,
      "overflow_x": null,
      "overflow_y": null,
      "padding": null,
      "right": null,
      "top": null,
      "visibility": null,
      "width": null
     }
    },
    "f8a802b24c06437b869bbdf811d9c660": {
     "model_module": "@jupyter-widgets/controls",
     "model_module_version": "1.5.0",
     "model_name": "HTMLModel",
     "state": {
      "_dom_classes": [],
      "_model_module": "@jupyter-widgets/controls",
      "_model_module_version": "1.5.0",
      "_model_name": "HTMLModel",
      "_view_count": null,
      "_view_module": "@jupyter-widgets/controls",
      "_view_module_version": "1.5.0",
      "_view_name": "HTMLView",
      "description": "",
      "description_tooltip": null,
      "layout": "IPY_MODEL_f7628ec288014df4a967fe3314153312",
      "placeholder": "​",
      "style": "IPY_MODEL_7cd6113d71f043f78d8d14bfad29550c",
      "value": "Map: 100%"
     }
    }
   }
  }
 },
 "nbformat": 4,
 "nbformat_minor": 4
}
