{
 "cells": [
  {
   "cell_type": "markdown",
   "id": "958d3735-ae17-40ae-98af-1a4bd79ddaa2",
   "metadata": {},
   "source": [
    "# 4.2.2.2 Random Forest Classifier\n",
    "\n",
    "## Introduction\n",
    "\n",
    "A Random Forest Classifier is an ensemble learning method that constructs a multitude of decision trees during training and outputs the class that is the mode of the classes (classification) or mean prediction (regression) of the individual trees. It operates by aggregating predictions from multiple decision trees to improve accuracy and control overfitting. Here are some key points:\n",
    "\n",
    "- **Ensemble Method**: Combines multiple decision trees to improve generalizability and robustness over a single tree.\n",
    "- **Randomization**: Each tree in the ensemble is trained on a random subset of the training data (bootstrap sampling) and a random subset of the features (feature bagging).\n",
    "- **Prediction**: For classification tasks, the final prediction is the majority vote of all individual trees. For regression tasks, it's the average prediction of all trees.\n",
    "\n",
    "## Benefits\n",
    "\n",
    "- **High Accuracy**: Random Forests generally provide higher accuracy compared to individual decision trees.\n",
    "- **Reduced Overfitting**: By averaging multiple decision trees, Random Forests reduce overfitting and improve generalization.\n",
    "- **Feature Importance**: Provides an estimate of feature importance, helping to identify which features are most influential in making predictions.\n",
    "- **Robust**: Effective for both classification and regression tasks and handles large datasets with high dimensionality well.\n"
   ]
  },
  {
   "cell_type": "markdown",
   "id": "a4934810-8d2e-4603-954c-7dc2d7a7413a",
   "metadata": {},
   "source": [
    "___\n",
    "___\n",
    "\n",
    "### Readings:\n",
    "- [What is random forest? - IBM](https://www.ibm.com/topics/random-forest#:~:text=Random%20forest%20is%20a%20commonly,both%20classification%20and%20regression%20problems.)\n",
    "- [How to visualize Decision Trees and Random Forest Trees?](https://readmedium.com/en/https:/towardsdev.com/how-to-visualize-decision-trees-and-random-forest-trees-1b10ad965ef1)\n",
    "\n",
    "___\n",
    "___\n"
   ]
  },
  {
   "cell_type": "code",
   "execution_count": 1,
   "id": "1edf3af8-aaaf-4472-9d4e-9796a512dc66",
   "metadata": {},
   "outputs": [],
   "source": [
    "# Using scikit-learn to implement Random Forest Classifier\n",
    "\n",
    "from sklearn.ensemble import RandomForestClassifier\n",
    "from sklearn.datasets import load_iris\n",
    "from sklearn.model_selection import train_test_split\n",
    "from sklearn.metrics import accuracy_score, classification_report"
   ]
  },
  {
   "cell_type": "code",
   "execution_count": 2,
   "id": "c25a6f1a-7780-4b41-b575-e6851bd1a386",
   "metadata": {},
   "outputs": [],
   "source": [
    "# Load the dataset\n",
    "iris = load_iris()\n",
    "X = iris.data\n",
    "y = iris.target"
   ]
  },
  {
   "cell_type": "code",
   "execution_count": 3,
   "id": "b5ad1313-df43-4108-977c-943eddd469ef",
   "metadata": {},
   "outputs": [],
   "source": [
    "# Split the dataset into training and test sets\n",
    "X_train, X_test, y_train, y_test = train_test_split(X, y, test_size=0.2, random_state=42)"
   ]
  },
  {
   "cell_type": "code",
   "execution_count": 4,
   "id": "627d13c0-b26a-4025-8de4-ccd2507f29d2",
   "metadata": {},
   "outputs": [
    {
     "name": "stdout",
     "output_type": "stream",
     "text": [
      "Accuracy: 1.0\n",
      "Classification Report: \n",
      "              precision    recall  f1-score   support\n",
      "\n",
      "           0       1.00      1.00      1.00        10\n",
      "           1       1.00      1.00      1.00         9\n",
      "           2       1.00      1.00      1.00        11\n",
      "\n",
      "    accuracy                           1.00        30\n",
      "   macro avg       1.00      1.00      1.00        30\n",
      "weighted avg       1.00      1.00      1.00        30\n",
      "\n"
     ]
    }
   ],
   "source": [
    "# Initialize the Random Forest Classifier\n",
    "clf = RandomForestClassifier(n_estimators=100, random_state=42)\n",
    "\n",
    "# Train the classifier on the training data\n",
    "clf.fit(X_train, y_train)\n",
    "\n",
    "# Make predictions on the test data\n",
    "y_pred = clf.predict(X_test)\n",
    "\n",
    "# Calculate the accuracy\n",
    "accuracy = accuracy_score(y_test, y_pred)\n",
    "print(f\"Accuracy: {accuracy}\")\n",
    "report = classification_report(y_test, y_pred)\n",
    "print(f\"Classification Report: \\n{report}\")"
   ]
  },
  {
   "cell_type": "markdown",
   "id": "e5f665b6-e195-424b-96ef-444044958bc5",
   "metadata": {},
   "source": [
    "## Conclusion\n",
    "\n",
    "Random Forest Classifiers are highly effective and versatile machine learning models that leverage the strengths of ensemble learning. Here are key points to summarize:\n",
    "\n",
    "- **Accuracy**: Random Forests typically provide higher accuracy compared to individual decision trees by aggregating predictions from multiple trees.\n",
    "- **Overfitting Control**: By averaging predictions from diverse trees trained on random subsets of data and features (randomization), Random Forests reduce overfitting and improve generalization.\n",
    "- **Feature Importance**: They provide insights into feature importance, aiding in understanding which features contribute most to predictions.\n",
    "- **Robustness**: Random Forests are robust against noise and outliers, making them suitable for various tasks including classification and regression.\n",
    "- **Applications**: Widely used in fields such as finance, healthcare, and image classification due to their robust performance and interpretability.\n",
    "\n",
    "In summary, Random Forest Classifiers are a go-to choice for complex prediction tasks where accuracy and interpretability are crucial.\n"
   ]
  }
 ],
 "metadata": {
  "kernelspec": {
   "display_name": "Python 3 (ipykernel)",
   "language": "python",
   "name": "python3"
  },
  "language_info": {
   "codemirror_mode": {
    "name": "ipython",
    "version": 3
   },
   "file_extension": ".py",
   "mimetype": "text/x-python",
   "name": "python",
   "nbconvert_exporter": "python",
   "pygments_lexer": "ipython3",
   "version": "3.12.0"
  }
 },
 "nbformat": 4,
 "nbformat_minor": 5
}
